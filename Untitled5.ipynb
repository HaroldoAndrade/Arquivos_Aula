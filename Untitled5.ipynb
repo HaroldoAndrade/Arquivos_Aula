{
  "nbformat": 4,
  "nbformat_minor": 0,
  "metadata": {
    "colab": {
      "provenance": [],
      "authorship_tag": "ABX9TyOdpHFfB8AW+xlpwVOmjg4c",
      "include_colab_link": true
    },
    "kernelspec": {
      "name": "python3",
      "display_name": "Python 3"
    },
    "language_info": {
      "name": "python"
    }
  },
  "cells": [
    {
      "cell_type": "markdown",
      "metadata": {
        "id": "view-in-github",
        "colab_type": "text"
      },
      "source": [
        "<a href=\"https://colab.research.google.com/github/HaroldoAndrade/Arquivos_Aula/blob/main/Untitled5.ipynb\" target=\"_parent\"><img src=\"https://colab.research.google.com/assets/colab-badge.svg\" alt=\"Open In Colab\"/></a>"
      ]
    },
    {
      "cell_type": "code",
      "source": [
        "9%2"
      ],
      "metadata": {
        "colab": {
          "base_uri": "https://localhost:8080/"
        },
        "id": "u44uH3MgR4iB",
        "outputId": "d0b17f15-a4f5-47b9-d3a0-8429bf95d3d4"
      },
      "execution_count": null,
      "outputs": [
        {
          "output_type": "execute_result",
          "data": {
            "text/plain": [
              "1"
            ]
          },
          "metadata": {},
          "execution_count": 36
        }
      ]
    },
    {
      "cell_type": "code",
      "execution_count": null,
      "metadata": {
        "colab": {
          "base_uri": "https://localhost:8080/",
          "height": 131
        },
        "id": "YqcZCDH4PUSu",
        "outputId": "7abbe926-0006-4320-cf30-ac9a1623aba0"
      },
      "outputs": [
        {
          "output_type": "error",
          "ename": "IndentationError",
          "evalue": "ignored",
          "traceback": [
            "\u001b[0;36m  File \u001b[0;32m\"<tokenize>\"\u001b[0;36m, line \u001b[0;32m7\u001b[0m\n\u001b[0;31m    print(nome_completo)\u001b[0m\n\u001b[0m    ^\u001b[0m\n\u001b[0;31mIndentationError\u001b[0m\u001b[0;31m:\u001b[0m unindent does not match any outer indentation level\n"
          ]
        }
      ],
      "source": [
        "dicionario={'pessoa_1':{'nome':'Peterson','sobrenome':'Almeida'}, \n",
        "            'pessoa_2':{'nome':'Maria','sobrenome':'Silva'}, \n",
        "            'pessoa_3':{'nome':'Jose','sobrenome':'Santos'}} \n",
        "nome_completo=[] \n",
        "for a,b in dicionario.items(): \n",
        "  nome_completo.append(str(b['nome'])'+'str(b['sobrenome'])) \n",
        "  print(nome_completo)\n"
      ]
    },
    {
      "cell_type": "code",
      "source": [
        "altura = 1.75 \n",
        "peso = 79.2 \n",
        "IMC = peso/altura**2 \n",
        "print('{:.2f}'.format(IMC))"
      ],
      "metadata": {
        "id": "5wCMJhqRQPf7"
      },
      "execution_count": null,
      "outputs": []
    },
    {
      "cell_type": "code",
      "source": [
        "def contador_x (lista1,lista2,x): \n",
        "  contador=0 \n",
        "  for a,b in zip(lista1,lista2): \n",
        "    if a =='x' and b=='x': \n",
        "      break \n",
        "    else: \n",
        "      contador+=1\n",
        "      \n",
        "\n",
        "  return contador\n",
        "\n",
        "a = ['dnc','abc','bnc','mnc','dnc','bnc','Dnc','ncd','dnc','dncdnc','ddnc'] \n",
        "b = ['dnc','abc','bnc','mnc','dnc','bnc','Dnc','ncd','dnc','dncdnc','ddnc','xms','cds','dn','cdn','dnc','xml','a'] \n",
        "y = contador_x(a,b,'dnc')\n",
        "print(y)\n",
        "\n",
        "\n",
        "\n"
      ],
      "metadata": {
        "colab": {
          "base_uri": "https://localhost:8080/"
        },
        "id": "nnK1oyMwQrLe",
        "outputId": "713e6b73-a1d3-4b5e-a424-07c8175e2579"
      },
      "execution_count": null,
      "outputs": [
        {
          "output_type": "stream",
          "name": "stdout",
          "text": [
            "1\n",
            "2\n",
            "3\n",
            "4\n",
            "5\n",
            "6\n",
            "7\n",
            "8\n",
            "9\n",
            "10\n",
            "11\n",
            "11\n"
          ]
        }
      ]
    },
    {
      "cell_type": "code",
      "source": [
        "i = 0\n",
        "a = 0 \n",
        "while a > -1: \n",
        "  a = int(input(\"Digite um número: \")) \n",
        "  if i < 10: \n",
        "    if a == -1: \n",
        "      break \n",
        "    else: i += 1 \n",
        "  else: break"
      ],
      "metadata": {
        "colab": {
          "base_uri": "https://localhost:8080/"
        },
        "id": "EQHRvqJyZY0s",
        "outputId": "7251f2ab-8fcb-493b-d1b5-2ec8c8e55590"
      },
      "execution_count": null,
      "outputs": [
        {
          "name": "stdout",
          "output_type": "stream",
          "text": [
            "Digite um número: 1\n",
            "Digite um número: 4\n",
            "Digite um número: 3\n",
            "Digite um número: 6\n",
            "Digite um número: 7\n",
            "Digite um número: 4\n",
            "Digite um número: 7\n",
            "Digite um número: 4\n",
            "Digite um número: 8\n",
            "Digite um número: 9\n",
            "Digite um número: 4\n"
          ]
        }
      ]
    },
    {
      "cell_type": "code",
      "source": [
        "b = \"\"3\"\""
      ],
      "metadata": {
        "colab": {
          "base_uri": "https://localhost:8080/",
          "height": 131
        },
        "id": "tbbFELVqaSDi",
        "outputId": "309b18c1-0ad8-4dd8-9ef8-bdbcbd095eff"
      },
      "execution_count": null,
      "outputs": [
        {
          "output_type": "error",
          "ename": "SyntaxError",
          "evalue": "ignored",
          "traceback": [
            "\u001b[0;36m  File \u001b[0;32m\"<ipython-input-47-a92b79fb3672>\"\u001b[0;36m, line \u001b[0;32m1\u001b[0m\n\u001b[0;31m    b = \"\"3\"\"\u001b[0m\n\u001b[0m          ^\u001b[0m\n\u001b[0;31mSyntaxError\u001b[0m\u001b[0;31m:\u001b[0m invalid syntax\n"
          ]
        }
      ]
    },
    {
      "cell_type": "code",
      "source": [
        "a = [3, 6, 8, 2, 5, 4, 9, 1, 2, 13, 6, 10, 7, 14]\n",
        "soma = 0\n",
        "media = 0\n",
        "for i,v in enumerate(a):\n",
        "  soma += v\n",
        "  media = soma/(i+1)\n",
        "print(soma)\n",
        "print(media)\n",
        "\n"
      ],
      "metadata": {
        "colab": {
          "base_uri": "https://localhost:8080/"
        },
        "id": "9gI5Jn4Uado7",
        "outputId": "dd086316-81fc-49b3-8a48-1454cfe189bc"
      },
      "execution_count": null,
      "outputs": [
        {
          "output_type": "stream",
          "name": "stdout",
          "text": [
            "90\n",
            "6.428571428571429\n"
          ]
        }
      ]
    },
    {
      "cell_type": "code",
      "source": [
        "lista = [0, 1, 1, 1, 0, 0, 0, 1, 0, 1, 1, 1, 0, 1, 0, 1, 0, 1, 1, 0, 0, 1, 0, 1, 0, 1, 1, 1, 0, 0, 1, 0, 0, 1, 1, 0, 1, 1, 1, 1, 0, 0, 1, 0, 0, 0, 0, 0, 0, 1, 1, 1, 0, 0, 1, 1, 0, 1, 1, 0, 0, 1, 0, 1, 0, 1, 1, 1, 0, 0, 1, 0, 0, 0, 1, 0, 0, 0, 0, 0, 0, 1, 1, 1, 0, 1, 0, 1, 0, 1, 1, 0, 1, 1, 0, 1, 0, 0, 1, 0, 0, 0, 0, 0, 0, 1, 1, 0, 0, 0, 1, 1, 0, 1, 1, 0, 1, 0, 0, 1, 0, 1, 1, 0, 0, 1, 0, 1, 0, 1, 1, 0, 1, 1, 1, 0, 0, 1, 1, 1, 0, 1, 0, 0, 0, 1, 1, 0, 1, 0, 0, 1, 0, 1, 1, 1, 0, 0, 1, 1, 0, 1, 1, 1, 0, 1, 0, 0, 0, 1, 1, 0, 0, 0, 0, 1, 0, 0, 1, 0, 0, 0, 0, 0, 0, 1, 1, 0, 0, 1, 0, 0, 0, 1, 1, 0, 0, 1, 0, 1, 0, 0, 1, 0, 0, 0, 0, 0, 0, 1, 1, 0, 0, 1, 0, 0, 0, 1, 1, 0, 0, 0, 0, 1, 0, 1, 1, 0, 0, 1, 0, 0, 0, 1, 1, 0, 1, 1, 1, 1, 0, 1, 1, 1, 0, 0, 1, 1]\n",
        "contador = 0\n",
        "for i in lista:\n",
        "  if i == 1:\n",
        "    contador += 1\n",
        "print(contador*100/len(lista))"
      ],
      "metadata": {
        "colab": {
          "base_uri": "https://localhost:8080/"
        },
        "id": "esNvM93kbLg0",
        "outputId": "d2858153-44a3-4264-9383-0d8b14520d2a"
      },
      "execution_count": null,
      "outputs": [
        {
          "output_type": "stream",
          "name": "stdout",
          "text": [
            "46.37096774193548\n"
          ]
        }
      ]
    },
    {
      "cell_type": "code",
      "source": [
        "lista = [{'Nome': 'laranja', 'preço': 6.0}, \n",
        "         {'Nome': 'maça', 'preço': 4}, \n",
        "         {'Nome': 'melancia', 'preço': 10.7}, \n",
        "         {'Nome':'Melão', 'preço':8.2}]\n",
        "print(lista['preço'])"
      ],
      "metadata": {
        "colab": {
          "base_uri": "https://localhost:8080/",
          "height": 200
        },
        "id": "l-LF1gkIcIh9",
        "outputId": "8cbce957-c347-4023-f3d9-c6055f033f6f"
      },
      "execution_count": null,
      "outputs": [
        {
          "output_type": "error",
          "ename": "TypeError",
          "evalue": "ignored",
          "traceback": [
            "\u001b[0;31m---------------------------------------------------------------------------\u001b[0m",
            "\u001b[0;31mTypeError\u001b[0m                                 Traceback (most recent call last)",
            "\u001b[0;32m<ipython-input-53-d346d2ede4ef>\u001b[0m in \u001b[0;36m<module>\u001b[0;34m\u001b[0m\n\u001b[1;32m      3\u001b[0m          \u001b[0;34m{\u001b[0m\u001b[0;34m'Nome'\u001b[0m\u001b[0;34m:\u001b[0m \u001b[0;34m'melancia'\u001b[0m\u001b[0;34m,\u001b[0m \u001b[0;34m'preço'\u001b[0m\u001b[0;34m:\u001b[0m \u001b[0;36m10.7\u001b[0m\u001b[0;34m}\u001b[0m\u001b[0;34m,\u001b[0m\u001b[0;34m\u001b[0m\u001b[0;34m\u001b[0m\u001b[0m\n\u001b[1;32m      4\u001b[0m          {'Nome':'Melão', 'preço':8.2}]\n\u001b[0;32m----> 5\u001b[0;31m \u001b[0mprint\u001b[0m\u001b[0;34m(\u001b[0m\u001b[0mlista\u001b[0m\u001b[0;34m[\u001b[0m\u001b[0;34m'preço'\u001b[0m\u001b[0;34m]\u001b[0m\u001b[0;34m)\u001b[0m\u001b[0;34m\u001b[0m\u001b[0;34m\u001b[0m\u001b[0m\n\u001b[0m",
            "\u001b[0;31mTypeError\u001b[0m: list indices must be integers or slices, not str"
          ]
        }
      ]
    },
    {
      "cell_type": "code",
      "source": [
        "-10**1000"
      ],
      "metadata": {
        "colab": {
          "base_uri": "https://localhost:8080/"
        },
        "id": "zf3VSld_c4E0",
        "outputId": "75c41927-5ccd-4cb6-cb90-3d0d99e9159e"
      },
      "execution_count": null,
      "outputs": [
        {
          "output_type": "execute_result",
          "data": {
            "text/plain": [
              "-10000000000000000000000000000000000000000000000000000000000000000000000000000000000000000000000000000000000000000000000000000000000000000000000000000000000000000000000000000000000000000000000000000000000000000000000000000000000000000000000000000000000000000000000000000000000000000000000000000000000000000000000000000000000000000000000000000000000000000000000000000000000000000000000000000000000000000000000000000000000000000000000000000000000000000000000000000000000000000000000000000000000000000000000000000000000000000000000000000000000000000000000000000000000000000000000000000000000000000000000000000000000000000000000000000000000000000000000000000000000000000000000000000000000000000000000000000000000000000000000000000000000000000000000000000000000000000000000000000000000000000000000000000000000000000000000000000000000000000000000000000000000000000000000000000000000000000000000000000000000000000000000000000000000000000000000000000000000000000000000000000000000000000000000000000000000000000"
            ]
          },
          "metadata": {},
          "execution_count": 54
        }
      ]
    },
    {
      "cell_type": "code",
      "source": [
        "print('13'+'90')\n",
        "\n",
        "\n",
        "\n"
      ],
      "metadata": {
        "colab": {
          "base_uri": "https://localhost:8080/"
        },
        "id": "6XI6h8LidL_N",
        "outputId": "879a3bbe-1980-4331-ae25-f16e8b049b03"
      },
      "execution_count": null,
      "outputs": [
        {
          "output_type": "stream",
          "name": "stdout",
          "text": [
            "1390\n"
          ]
        }
      ]
    },
    {
      "cell_type": "code",
      "source": [
        "print('a')\n",
        "print(\"\")\n",
        "print()\n",
        "print('b')"
      ],
      "metadata": {
        "colab": {
          "base_uri": "https://localhost:8080/"
        },
        "id": "UmDhEfz9eRRu",
        "outputId": "771156cc-2d40-48d3-d697-be09a4f0faf8"
      },
      "execution_count": null,
      "outputs": [
        {
          "output_type": "stream",
          "name": "stdout",
          "text": [
            "a\n",
            "\n",
            "\n",
            "b\n"
          ]
        }
      ]
    },
    {
      "cell_type": "code",
      "source": [
        "cor = 5\n",
        "Cor = 10\n",
        "print(cor)\n",
        "print(Cor)"
      ],
      "metadata": {
        "colab": {
          "base_uri": "https://localhost:8080/"
        },
        "id": "BqaGIQ-fecLO",
        "outputId": "443a13f6-1cd7-4415-8a72-54557e6808c0"
      },
      "execution_count": null,
      "outputs": [
        {
          "output_type": "stream",
          "name": "stdout",
          "text": [
            "5\n",
            "10\n"
          ]
        }
      ]
    },
    {
      "cell_type": "code",
      "source": [
        "l1 = [1,9,4,3,5]\n",
        "print(sorted(l1))\n",
        "l1.pop()\n",
        "print(l1)"
      ],
      "metadata": {
        "colab": {
          "base_uri": "https://localhost:8080/"
        },
        "id": "rKNmm0TMgFkh",
        "outputId": "15b46e61-7a6d-4268-c815-2e037b1e74cb"
      },
      "execution_count": null,
      "outputs": [
        {
          "output_type": "stream",
          "name": "stdout",
          "text": [
            "[1, 3, 4, 5, 9]\n",
            "[1, 9, 4, 3]\n"
          ]
        }
      ]
    }
  ]
}